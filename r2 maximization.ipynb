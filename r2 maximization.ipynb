{
 "cells": [
  {
   "cell_type": "code",
   "execution_count": 21,
   "metadata": {},
   "outputs": [],
   "source": [
    "import pandas as pd\n",
    "from sklearn.model_selection import train_test_split\n",
    "from sklearn.linear_model import LinearRegression\n",
    "from sklearn.ensemble import RandomForestRegressor\n",
    "from sklearn.tree import DecisionTreeRegressor"
   ]
  },
  {
   "cell_type": "code",
   "execution_count": 22,
   "metadata": {},
   "outputs": [],
   "source": [
    "data = pd.read_csv('https://code.s3.yandex.net/data-scientist/flights_preprocessed.csv')"
   ]
  },
  {
   "cell_type": "code",
   "execution_count": 23,
   "metadata": {},
   "outputs": [
    {
     "name": "stdout",
     "output_type": "stream",
     "text": [
      "   Month       Day  Day Of Week  Origin Airport Delay Rate  \\\n",
      "0    0.0 -0.956289     0.425688                  -0.607571   \n",
      "1    0.0  0.144670     1.379526                  -0.607571   \n",
      "2    0.0  0.144670     1.379526                  -0.607571   \n",
      "3    0.0 -0.405810     0.902607                  -0.607571   \n",
      "4    0.0  0.695149    -1.481987                   1.870459   \n",
      "\n",
      "   Destination Airport Delay Rate  Scheduled Time  Distance  \\\n",
      "0                       -0.538144        1.064249  0.906818   \n",
      "1                        2.050538        0.370303  0.425303   \n",
      "2                       -0.538144       -1.279458 -1.156818   \n",
      "3                       -0.538144        0.213183  0.145238   \n",
      "4                       -0.538144       -0.978311 -1.184660   \n",
      "\n",
      "   Scheduled Departure Hour  Scheduled Departure Minute  Arrival Delay  ...  \\\n",
      "0                 -1.000305                    1.551139          -13.0  ...   \n",
      "1                 -1.000305                    0.183960          -12.0  ...   \n",
      "2                 -2.664610                    0.183960          189.0  ...   \n",
      "3                 -0.792267                   -0.089476           -7.0  ...   \n",
      "4                 -1.624419                    1.058954           -4.0  ...   \n",
      "\n",
      "   Airline_EV  Airline_F9  Airline_HA  Airline_MQ  Airline_NK  Airline_OO  \\\n",
      "0           0           0           0           0           0           0   \n",
      "1           0           0           0           0           0           0   \n",
      "2           0           0           0           0           0           0   \n",
      "3           0           0           0           0           0           0   \n",
      "4           1           0           0           0           0           0   \n",
      "\n",
      "   Airline_UA  Airline_US  Airline_VX  Airline_WN  \n",
      "0           0           0           0           1  \n",
      "1           0           0           0           0  \n",
      "2           0           1           0           0  \n",
      "3           0           0           0           1  \n",
      "4           0           0           0           0  \n",
      "\n",
      "[5 rows x 23 columns]\n"
     ]
    }
   ],
   "source": [
    "print(data.head())"
   ]
  },
  {
   "cell_type": "code",
   "execution_count": 24,
   "metadata": {},
   "outputs": [],
   "source": [
    "target = data['Arrival Delay']\n",
    "features = data.drop(['Arrival Delay'] , axis=1)\n",
    "features_train, features_valid, target_train, target_valid = train_test_split(\n",
    "    features, target, test_size=0.25, random_state=12345)"
   ]
  },
  {
   "cell_type": "code",
   "execution_count": 25,
   "metadata": {},
   "outputs": [
    {
     "name": "stdout",
     "output_type": "stream",
     "text": [
      "0.09710497146204988\n"
     ]
    }
   ],
   "source": [
    "model = LinearRegression()\n",
    "model.fit(features_train, target_train)\n",
    "print(model.score(features_valid, target_valid))"
   ]
  },
  {
   "cell_type": "code",
   "execution_count": 26,
   "metadata": {},
   "outputs": [
    {
     "name": "stdout",
     "output_type": "stream",
     "text": [
      "1 : 0.037285907526148354\n",
      "2 : 0.06819642209621124\n",
      "3 : 0.08784043439422196\n",
      "4 : 0.10410539417320942\n",
      "5 : 0.1170148926305088\n",
      "6 : 0.12812270304109197\n",
      "7 : 0.14023988572891255\n",
      "8 : 0.1509905046331984\n",
      "9 : 0.1561784744742989\n",
      "10 : 0.15937461353477067\n",
      "11 : 0.16165140416942136\n",
      "12 : 0.16050981198241898\n",
      "13 : 0.15524848318843387\n",
      "14 : 0.14612375630805674\n",
      "15 : 0.1419794076464067\n"
     ]
    }
   ],
   "source": [
    "for depth in range(1, 16, 1):\n",
    "    model = RandomForestRegressor(n_estimators=20, max_depth=depth, random_state=12345)\n",
    "    model.fit(features_train, target_train)\n",
    "    print(depth,':', model.score(features_valid, target_valid))"
   ]
  },
  {
   "cell_type": "code",
   "execution_count": 27,
   "metadata": {},
   "outputs": [
    {
     "name": "stdout",
     "output_type": "stream",
     "text": [
      "0.43399599734071415\n",
      "0.16455159363220306\n",
      "CPU times: user 18.3 s, sys: 11.9 ms, total: 18.3 s\n",
      "Wall time: 18.6 s\n"
     ]
    }
   ],
   "source": [
    "%%time\n",
    "\n",
    "model = RandomForestRegressor(n_estimators=100, \n",
    "    max_depth=12, random_state=12345)\n",
    "model.fit(features_train, target_train)\n",
    "print(model.score(features_train, target_train))\n",
    "print(model.score(features_valid, target_valid))"
   ]
  },
  {
   "cell_type": "code",
   "execution_count": 28,
   "metadata": {},
   "outputs": [
    {
     "data": {
      "text/plain": [
       "RandomForestRegressor(bootstrap=True, criterion='mse', max_depth=11,\n",
       "                      max_features='auto', max_leaf_nodes=None,\n",
       "                      min_impurity_decrease=0.0, min_impurity_split=None,\n",
       "                      min_samples_leaf=1, min_samples_split=2,\n",
       "                      min_weight_fraction_leaf=0.0, n_estimators=20,\n",
       "                      n_jobs=None, oob_score=False, random_state=12345,\n",
       "                      verbose=0, warm_start=False)"
      ]
     },
     "execution_count": 28,
     "metadata": {},
     "output_type": "execute_result"
    }
   ],
   "source": [
    "model = RandomForestRegressor(n_estimators=20, max_depth=11, random_state=12345)\n",
    "model.fit(features, target)"
   ]
  },
  {
   "cell_type": "code",
   "execution_count": 29,
   "metadata": {},
   "outputs": [
    {
     "data": {
      "text/plain": [
       "['r2maximization.joblib']"
      ]
     },
     "execution_count": 29,
     "metadata": {},
     "output_type": "execute_result"
    }
   ],
   "source": [
    "from joblib import dump\n",
    "dump(model,'r2maximization.joblib')"
   ]
  }
 ],
 "metadata": {
  "kernelspec": {
   "display_name": "Python 3",
   "language": "python",
   "name": "python3"
  },
  "language_info": {
   "codemirror_mode": {
    "name": "ipython",
    "version": 3
   },
   "file_extension": ".py",
   "mimetype": "text/x-python",
   "name": "python",
   "nbconvert_exporter": "python",
   "pygments_lexer": "ipython3",
   "version": "3.7.4"
  }
 },
 "nbformat": 4,
 "nbformat_minor": 2
}
